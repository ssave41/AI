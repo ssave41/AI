{
  "nbformat": 4,
  "nbformat_minor": 0,
  "metadata": {
    "colab": {
      "name": "HW_J041_040720.ipynb",
      "provenance": [],
      "authorship_tag": "ABX9TyNsBNWaxau8AEYOim5xVCk5",
      "include_colab_link": true
    },
    "kernelspec": {
      "name": "python3",
      "display_name": "Python 3"
    }
  },
  "cells": [
    {
      "cell_type": "markdown",
      "metadata": {
        "id": "view-in-github",
        "colab_type": "text"
      },
      "source": [
        "<a href=\"https://colab.research.google.com/github/ssave41/AI/blob/master/HW/HW_J041_040720.ipynb\" target=\"_parent\"><img src=\"https://colab.research.google.com/assets/colab-badge.svg\" alt=\"Open In Colab\"/></a>"
      ]
    },
    {
      "cell_type": "code",
      "metadata": {
        "id": "UevZSalSK_Ms",
        "colab_type": "code",
        "colab": {}
      },
      "source": [
        "# python if else\n",
        "n = int(input())\n",
        "if n%2 != 0:\n",
        "    print(\"Weird\") \n",
        "if n%2 == 0:\n",
        "    if (n >= 2) and (n <= 5):\n",
        "        print(\"Not Weird\")\n",
        "    if (n >= 6) and (n <= 20):\n",
        "        print(\"Weird\")\n",
        "    if (n > 20):\n",
        "        print(\"Not Weird\")\n",
        "    "
      ],
      "execution_count": null,
      "outputs": []
    },
    {
      "cell_type": "code",
      "metadata": {
        "id": "qRCKo8iiLfU6",
        "colab_type": "code",
        "colab": {}
      },
      "source": [
        "# python arithmetic operators\n",
        "a = int(input())\n",
        "b = int(input())\n",
        "print(a + b)\n",
        "print(a - b)\n",
        "print(a * b)"
      ],
      "execution_count": null,
      "outputs": []
    },
    {
      "cell_type": "code",
      "metadata": {
        "id": "dOkkzTmAL_f7",
        "colab_type": "code",
        "colab": {}
      },
      "source": [
        "# python division\n",
        "a = int(input())\n",
        "b = int(input())\n",
        "print(a // b)\n",
        "print(a / b)\n"
      ],
      "execution_count": null,
      "outputs": []
    },
    {
      "cell_type": "code",
      "metadata": {
        "id": "VXZVkJA7MFgj",
        "colab_type": "code",
        "colab": {}
      },
      "source": [
        "#loops\n",
        "N = int(input())\n",
        "for a in range(0,N):\n",
        "    print(a*a)"
      ],
      "execution_count": null,
      "outputs": []
    },
    {
      "cell_type": "code",
      "metadata": {
        "id": "rk3egahyMPqP",
        "colab_type": "code",
        "colab": {}
      },
      "source": [
        "#python-print\n",
        "N = int(input())\n",
        "str1 = ''\n",
        "for a in range(1,N+1):\n",
        "    s = str(a)\n",
        "    str1 = str1 + s\n",
        "print(str1)\n"
      ],
      "execution_count": null,
      "outputs": []
    },
    {
      "cell_type": "code",
      "metadata": {
        "id": "I39PGjCuMeyd",
        "colab_type": "code",
        "colab": {}
      },
      "source": [
        "#list comprehension\n",
        "x, y, z, n = (int(input()) for _ in range(4))\n",
        "print ([[a,b,c] for a in range(0,x+1) for b in range(0,y+1) for c in range(0,z+1) if a + b + c != n ])"
      ],
      "execution_count": null,
      "outputs": []
    }
  ]
}