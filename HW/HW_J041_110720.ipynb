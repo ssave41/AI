{
  "nbformat": 4,
  "nbformat_minor": 0,
  "metadata": {
    "colab": {
      "name": "HW_J041_110720.ipynb",
      "provenance": [],
      "collapsed_sections": [],
      "toc_visible": true,
      "authorship_tag": "ABX9TyOTGvcfbKid5dmcJii09YWF",
      "include_colab_link": true
    },
    "kernelspec": {
      "name": "python3",
      "display_name": "Python 3"
    }
  },
  "cells": [
    {
      "cell_type": "markdown",
      "metadata": {
        "id": "view-in-github",
        "colab_type": "text"
      },
      "source": [
        "<a href=\"https://colab.research.google.com/github/ssave41/AI/blob/master/HW/HW_J041_110720.ipynb\" target=\"_parent\"><img src=\"https://colab.research.google.com/assets/colab-badge.svg\" alt=\"Open In Colab\"/></a>"
      ]
    },
    {
      "cell_type": "code",
      "metadata": {
        "id": "v7SMDIbjz4Cx",
        "colab_type": "code",
        "colab": {}
      },
      "source": [
        "import pandas as pd\n",
        "import matplotlib.pyplot as plt"
      ],
      "execution_count": 40,
      "outputs": []
    },
    {
      "cell_type": "code",
      "metadata": {
        "id": "Y_exN8s-0ImD",
        "colab_type": "code",
        "colab": {}
      },
      "source": [
        "class DataRead:\n",
        "  df = 0\n",
        "  def __init__(self,filename):\n",
        "    self.filename = filename\n",
        "    DataRead.df = pd.read_csv(filename)\n",
        "  def RowSelect(self,r1,r2):\n",
        "    return(DataRead.df.iloc[ r1 , : ],DataRead.df.iloc[ r2 , : ])"
      ],
      "execution_count": 41,
      "outputs": []
    },
    {
      "cell_type": "code",
      "metadata": {
        "id": "2Df8fv2a8P8d",
        "colab_type": "code",
        "colab": {}
      },
      "source": [
        "class DataRead2(DataRead):\n",
        "  def plot(self):\n",
        "    plt.matshow(DataRead2.df.corr())\n",
        "    plt.show()\n",
        "  def RowSelect(self,r1,r2,r3):\n",
        "    return(DataRead.df.iloc[ r1 , : ],DataRead.df.iloc[ r2 , : ],DataRead.df.iloc[ r3 , : ])"
      ],
      "execution_count": 42,
      "outputs": []
    },
    {
      "cell_type": "code",
      "metadata": {
        "id": "iw0ROopz5z2K",
        "colab_type": "code",
        "colab": {
          "base_uri": "https://localhost:8080/",
          "height": 272
        },
        "outputId": "db6e461a-0566-4e5e-8d36-ef686bdc9e62"
      },
      "source": [
        "pan1 = DataRead(\"/content/grad_data.csv\")\n",
        "pan1.RowSelect(1,2)"
      ],
      "execution_count": 43,
      "outputs": [
        {
          "output_type": "execute_result",
          "data": {
            "text/plain": [
              "(Unnamed: 0     2.0\n",
              " College.A     43.2\n",
              " College.B     69.6\n",
              " College.C     55.6\n",
              " College.D     77.3\n",
              " College.E     62.6\n",
              " College.F     61.0\n",
              " Name: 1, dtype: float64, Unnamed: 0     3.0\n",
              " College.A     49.6\n",
              " College.B     67.3\n",
              " College.C     56.9\n",
              " College.D     74.7\n",
              " College.E     54.5\n",
              " College.F     57.7\n",
              " Name: 2, dtype: float64)"
            ]
          },
          "metadata": {
            "tags": []
          },
          "execution_count": 43
        }
      ]
    },
    {
      "cell_type": "code",
      "metadata": {
        "id": "JggJmHPcGcST",
        "colab_type": "code",
        "colab": {
          "base_uri": "https://localhost:8080/",
          "height": 391
        },
        "outputId": "3edf79a6-2a29-4c03-b4de-ad105b30b3df"
      },
      "source": [
        "pan1 = DataRead2(\"/content/grad_data.csv\")\n",
        "pan1.RowSelect(1,2,3)"
      ],
      "execution_count": 44,
      "outputs": [
        {
          "output_type": "execute_result",
          "data": {
            "text/plain": [
              "(Unnamed: 0     2.0\n",
              " College.A     43.2\n",
              " College.B     69.6\n",
              " College.C     55.6\n",
              " College.D     77.3\n",
              " College.E     62.6\n",
              " College.F     61.0\n",
              " Name: 1, dtype: float64, Unnamed: 0     3.0\n",
              " College.A     49.6\n",
              " College.B     67.3\n",
              " College.C     56.9\n",
              " College.D     74.7\n",
              " College.E     54.5\n",
              " College.F     57.7\n",
              " Name: 2, dtype: float64, Unnamed: 0     4.0\n",
              " College.A     51.4\n",
              " College.B     76.7\n",
              " College.C     71.0\n",
              " College.D     79.2\n",
              " College.E     57.5\n",
              " College.F     66.4\n",
              " Name: 3, dtype: float64)"
            ]
          },
          "metadata": {
            "tags": []
          },
          "execution_count": 44
        }
      ]
    },
    {
      "cell_type": "code",
      "metadata": {
        "id": "htYw8R1g_22Z",
        "colab_type": "code",
        "colab": {
          "base_uri": "https://localhost:8080/",
          "height": 275
        },
        "outputId": "6d1167a0-3aa7-4482-d90c-19945dbdb2b2"
      },
      "source": [
        "pan2 = DataRead2(\"/content/grad_data.csv\")\n",
        "pan2.plot()\n"
      ],
      "execution_count": 45,
      "outputs": [
        {
          "output_type": "display_data",
          "data": {
            "image/png": "[encoded data removed]",
            "text/plain": [
              "<Figure size 288x288 with 1 Axes>"
            ]
          },
          "metadata": {
            "tags": [],
            "needs_background": "light"
          }
        }
      ]
    }
  ]
}