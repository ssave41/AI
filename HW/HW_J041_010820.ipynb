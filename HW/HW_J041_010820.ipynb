{
  "nbformat": 4,
  "nbformat_minor": 0,
  "metadata": {
    "colab": {
      "name": "HW_J041_010820.ipynb",
      "provenance": [],
      "collapsed_sections": [],
      "authorship_tag": "ABX9TyNQT7c4U/xgWXk6w2kAmzpR",
      "include_colab_link": true
    },
    "kernelspec": {
      "name": "python3",
      "display_name": "Python 3"
    }
  },
  "cells": [
    {
      "cell_type": "markdown",
      "metadata": {
        "id": "view-in-github",
        "colab_type": "text"
      },
      "source": [
        "<a href=\"https://colab.research.google.com/github/ssave41/AI/blob/master/HW/HW_J041_010820.ipynb\" target=\"_parent\"><img src=\"https://colab.research.google.com/assets/colab-badge.svg\" alt=\"Open In Colab\"/></a>"
      ]
    },
    {
      "cell_type": "markdown",
      "metadata": {
        "id": "MT2aE4lE7p8A",
        "colab_type": "text"
      },
      "source": [
        "Question - 1 - Validating Postal Code"
      ]
    },
    {
      "cell_type": "code",
      "metadata": {
        "id": "o3Y-D3k-3XJp",
        "colab_type": "code",
        "colab": {}
      },
      "source": [
        "regex_integer_in_range = r\"_________\"\t# Do not delete 'r'.\n",
        "regex_alternating_repetitive_digit_pair = r\"_________\"\t# Do not delete 'r'.\n",
        "regex_integer_in_range = r\"^[1-9]\\d{5}$\"\n",
        "regex_alternating_repetitive_digit_pair = r\"(.)(?=.\\1)\""
      ],
      "execution_count": null,
      "outputs": []
    },
    {
      "cell_type": "markdown",
      "metadata": {
        "id": "Ql0LRY4V70h6",
        "colab_type": "text"
      },
      "source": [
        "Question - 2 - Coin exchange problem\n"
      ]
    },
    {
      "cell_type": "code",
      "metadata": {
        "id": "JN_BjnmP7igP",
        "colab_type": "code",
        "colab": {}
      },
      "source": [
        "#!/bin/python3\n",
        "\n",
        "import math\n",
        "import os\n",
        "import random\n",
        "import re\n",
        "import sys\n",
        "\n",
        "#\n",
        "# Complete the 'getWays' function below.\n",
        "#\n",
        "# The function is expected to return a LONG_INTEGER.\n",
        "# The function accepts following parameters:\n",
        "#  1. INTEGER n\n",
        "#  2. LONG_INTEGER_ARRAY c\n",
        "#\n",
        "\n",
        "def getWays(n, c):\n",
        "    b = len(c)                                                 \n",
        "    tab = [0 for k in range(n+1)]                             \n",
        "    tab[0] = 1                                        \n",
        "    for i in range(0,b):                                       \n",
        "        for j in range(c[i],n+1): \n",
        "            tab[j] += tab[j-c[i]] \n",
        "  \n",
        "    return tab[n]                                            \n",
        "\n",
        "if __name__ == '__main__':\n",
        "    fptr = open(os.environ['OUTPUT_PATH'], 'w')\n",
        "\n",
        "    first_multiple_input = input().rstrip().split()\n",
        "\n",
        "    n = int(first_multiple_input[0])\n",
        "\n",
        "    m = int(first_multiple_input[1])\n",
        "\n",
        "    c = list(map(int, input().rstrip().split()))\n",
        "\n",
        "    # Print the number of ways of making change for 'n' units using coins having the values given by 'c'\n",
        "\n",
        "    ways = getWays(n, c)\n",
        "\n",
        "    fptr.write(str(ways) + '\\n')\n",
        "\n",
        "    fptr.close()"
      ],
      "execution_count": null,
      "outputs": []
    },
    {
      "cell_type": "markdown",
      "metadata": {
        "id": "yN16R9AA7jnO",
        "colab_type": "text"
      },
      "source": [
        "Question - 3 - Sherlock and cost"
      ]
    },
    {
      "cell_type": "code",
      "metadata": {
        "id": "r6ZJu6Pb7iqT",
        "colab_type": "code",
        "colab": {}
      },
      "source": [
        "#!/bin/python3\n",
        "\n",
        "import math\n",
        "import os\n",
        "import random\n",
        "import re\n",
        "import sys\n",
        "\n",
        "# Complete the cost function below.\n",
        "def cost(B):\n",
        "  high,low=0,0\n",
        "  leb = len(B)\n",
        "  for i in range(1,leb): \n",
        "    HL=abs(B[i-1]-1)\n",
        "    LH=abs(B[i]-1)\n",
        "    lownew=max(low,high+HL)\n",
        "    highnew=max(high,low+LH)\n",
        "    low=lownew\n",
        "    high=highnew\n",
        "  return max (high,low)\n",
        "\n",
        "if __name__ == '__main__':\n",
        "    fptr = open(os.environ['OUTPUT_PATH'], 'w')\n",
        "\n",
        "    t = int(input())\n",
        "\n",
        "    for t_itr in range(t):\n",
        "        n = int(input())\n",
        "\n",
        "        B = list(map(int, input().rstrip().split()))\n",
        "\n",
        "        result = cost(B)\n",
        "\n",
        "        fptr.write(str(result) + '\\n')\n",
        "\n",
        "    fptr.close()\n"
      ],
      "execution_count": null,
      "outputs": []
    }
  ]
}