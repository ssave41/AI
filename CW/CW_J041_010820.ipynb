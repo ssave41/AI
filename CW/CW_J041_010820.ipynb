{
  "nbformat": 4,
  "nbformat_minor": 0,
  "metadata": {
    "colab": {
      "name": "CW_J041_010820.ipynb",
      "provenance": [],
      "authorship_tag": "ABX9TyPFxJbz6krxMI6yxTc2G0vr",
      "include_colab_link": true
    },
    "kernelspec": {
      "name": "python3",
      "display_name": "Python 3"
    }
  },
  "cells": [
    {
      "cell_type": "markdown",
      "metadata": {
        "id": "view-in-github",
        "colab_type": "text"
      },
      "source": [
        "<a href=\"https://colab.research.google.com/github/ssave41/AI/blob/master/CW/CW_J041_010820.ipynb\" target=\"_parent\"><img src=\"https://colab.research.google.com/assets/colab-badge.svg\" alt=\"Open In Colab\"/></a>"
      ]
    },
    {
      "cell_type": "code",
      "metadata": {
        "id": "R3_LCrpm8xDs",
        "colab_type": "code",
        "colab": {}
      },
      "source": [
        "def fact_recursive(n):\n",
        "  fact=1\n",
        "  if n == 0:\n",
        "    return fact\n",
        "  else:\n",
        "    return n*fact_recursive(n-1)\n",
        "\n",
        "\n",
        "def fact_simple(n):\n",
        "  f=1\n",
        "  if n==0:\n",
        "    return f\n",
        "  else:\n",
        "    while n>0:\n",
        "      f=f*n\n",
        "      n-=1\n",
        "    return f"
      ],
      "execution_count": 1,
      "outputs": []
    },
    {
      "cell_type": "code",
      "metadata": {
        "id": "auBSOgG9FJ3Z",
        "colab_type": "code",
        "colab": {
          "base_uri": "https://localhost:8080/",
          "height": 34
        },
        "outputId": "1b3f33bb-29eb-4adf-8c30-f56de54041d5"
      },
      "source": [
        "fact_recursive(8)"
      ],
      "execution_count": 2,
      "outputs": [
        {
          "output_type": "execute_result",
          "data": {
            "text/plain": [
              "40320"
            ]
          },
          "metadata": {
            "tags": []
          },
          "execution_count": 2
        }
      ]
    },
    {
      "cell_type": "code",
      "metadata": {
        "id": "7pYnMcbuFMyp",
        "colab_type": "code",
        "colab": {
          "base_uri": "https://localhost:8080/",
          "height": 34
        },
        "outputId": "865d77d4-1bb9-4d7d-979c-dbf19d3dd266"
      },
      "source": [
        "fact_simple(10)"
      ],
      "execution_count": 3,
      "outputs": [
        {
          "output_type": "execute_result",
          "data": {
            "text/plain": [
              "3628800"
            ]
          },
          "metadata": {
            "tags": []
          },
          "execution_count": 3
        }
      ]
    },
    {
      "cell_type": "code",
      "metadata": {
        "id": "-D6H6meMFQ12",
        "colab_type": "code",
        "colab": {}
      },
      "source": [
        "def fib(n):\n",
        "  f0 =0\n",
        "  f1 =1\n",
        "  if n==0:\n",
        "    return f0\n",
        "  else:\n",
        "    while n-2>0:\n",
        "      f = f1+f0\n",
        "      f0=f1\n",
        "      f1=f\n",
        "      n-=1\n",
        "    return f"
      ],
      "execution_count": 4,
      "outputs": []
    },
    {
      "cell_type": "code",
      "metadata": {
        "id": "rYjka7XfFRR0",
        "colab_type": "code",
        "colab": {
          "base_uri": "https://localhost:8080/",
          "height": 34
        },
        "outputId": "6961972c-cb24-4914-fc05-d1b8a8fb38ee"
      },
      "source": [
        "fib(10)"
      ],
      "execution_count": 5,
      "outputs": [
        {
          "output_type": "execute_result",
          "data": {
            "text/plain": [
              "34"
            ]
          },
          "metadata": {
            "tags": []
          },
          "execution_count": 5
        }
      ]
    },
    {
      "cell_type": "code",
      "metadata": {
        "id": "Lk6fFDhNFT9m",
        "colab_type": "code",
        "colab": {}
      },
      "source": [
        "def fibo_recursive(n):\n",
        "  fibo=[]\n",
        "  fibo.append(0)\n",
        "  fibo.append(1)\n",
        "\n",
        "  for i in range(2,n+1):\n",
        "    fib = fibo[i-1] + fibo[i-2]\n",
        "    fibo.append(fib)\n",
        "\n",
        "  return fibo[n]"
      ],
      "execution_count": 6,
      "outputs": []
    },
    {
      "cell_type": "code",
      "metadata": {
        "id": "xhGWqY_TFYzF",
        "colab_type": "code",
        "colab": {
          "base_uri": "https://localhost:8080/",
          "height": 34
        },
        "outputId": "584e40eb-6feb-4d02-a31c-a4102542c3e1"
      },
      "source": [
        "fibo_recursive(8)"
      ],
      "execution_count": 7,
      "outputs": [
        {
          "output_type": "execute_result",
          "data": {
            "text/plain": [
              "21"
            ]
          },
          "metadata": {
            "tags": []
          },
          "execution_count": 7
        }
      ]
    },
    {
      "cell_type": "code",
      "metadata": {
        "id": "jgYyBhiqFZgF",
        "colab_type": "code",
        "colab": {}
      },
      "source": [
        "def fibo_1(n):\n",
        "  if n==1 or n==0:\n",
        "    return n\n",
        "  else:\n",
        "    return fibo_1(n-1)+fibo_1(n-2)"
      ],
      "execution_count": 8,
      "outputs": []
    },
    {
      "cell_type": "code",
      "metadata": {
        "id": "E-NxFox-FhDs",
        "colab_type": "code",
        "colab": {
          "base_uri": "https://localhost:8080/",
          "height": 34
        },
        "outputId": "61701ade-a847-4f2f-9294-8f790fcdb6f1"
      },
      "source": [
        "fibo_1(7)"
      ],
      "execution_count": 9,
      "outputs": [
        {
          "output_type": "execute_result",
          "data": {
            "text/plain": [
              "13"
            ]
          },
          "metadata": {
            "tags": []
          },
          "execution_count": 9
        }
      ]
    },
    {
      "cell_type": "code",
      "metadata": {
        "id": "bTGEqbfIFjHj",
        "colab_type": "code",
        "colab": {
          "base_uri": "https://localhost:8080/",
          "height": 35
        },
        "outputId": "43f80f7f-5a26-476e-deb1-4e5bf885db4b"
      },
      "source": [
        "# Binary Search\n",
        "\n",
        "l = [1,4,2,5,756,434,23,5,3,56,7,4,5,43,22,3,5,29,97,23,42,56,8,2,3,5,6,33,658,6,43578]\n",
        "\n",
        "'''\n",
        "Searching an element in list\n",
        "'''"
      ],
      "execution_count": 10,
      "outputs": [
        {
          "output_type": "execute_result",
          "data": {
            "application/vnd.google.colaboratory.intrinsic+json": {
              "type": "string"
            },
            "text/plain": [
              "'\\nSearching an element in list\\n'"
            ]
          },
          "metadata": {
            "tags": []
          },
          "execution_count": 10
        }
      ]
    },
    {
      "cell_type": "markdown",
      "metadata": {
        "id": "J11Q_Qc0FlLs",
        "colab_type": "text"
      },
      "source": [
        "Tractable - PTIME(Polynomial Time Solvable)\n",
        "\n",
        "Polynomial - expression where each term is n^k where k can be any whole number\n",
        "\n",
        "Polynomial Time - Runtime of the code or solution should be a polynomial of degree k where k is a constant, and since it is time n cannot be negative\n",
        "\n",
        "Degree of Polynomial is the highest power of the variable within the expression\n",
        "\n",
        "eg 0(n^4)\n",
        "\n",
        "n=1 => 1\n",
        "\n",
        "n=2 => 2^4\n",
        "\n",
        "n=3 => 3^4"
      ]
    },
    {
      "cell_type": "code",
      "metadata": {
        "id": "E4JI76E6FoD-",
        "colab_type": "code",
        "colab": {}
      },
      "source": [
        "l1 = l.copy().sort()"
      ],
      "execution_count": null,
      "outputs": []
    }
  ]
}