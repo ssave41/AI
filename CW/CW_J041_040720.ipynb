{
  "nbformat": 4,
  "nbformat_minor": 0,
  "metadata": {
    "colab": {
      "name": "CW_J041_040720.ipynb",
      "provenance": [],
      "authorship_tag": "ABX9TyOJl0BlRKkn55xFBoH7ldeW",
      "include_colab_link": true
    },
    "kernelspec": {
      "name": "python3",
      "display_name": "Python 3"
    }
  },
  "cells": [
    {
      "cell_type": "markdown",
      "metadata": {
        "id": "view-in-github",
        "colab_type": "text"
      },
      "source": [
        "<a href=\"https://colab.research.google.com/github/ssave41/AI/blob/master/CW/CW_J041_040720.ipynb\" target=\"_parent\"><img src=\"https://colab.research.google.com/assets/colab-badge.svg\" alt=\"Open In Colab\"/></a>"
      ]
    },
    {
      "cell_type": "code",
      "metadata": {
        "id": "BF26pQ71F0y3",
        "colab_type": "code",
        "colab": {}
      },
      "source": [
        "a = 2"
      ],
      "execution_count": 2,
      "outputs": []
    },
    {
      "cell_type": "code",
      "metadata": {
        "id": "-18AV6fIG9Vf",
        "colab_type": "code",
        "colab": {}
      },
      "source": [
        "a = [1,2,3,4]  #list\n",
        "b = (1,2,3,4)  #tuple\n",
        "c = {1,2,3,4}  #set\n",
        "c = {\"list\":[1,2,3,4],\"tuple\":(1,2,3,4),\"set\":{1,2,3,4}}  #dictionary "
      ],
      "execution_count": 3,
      "outputs": []
    },
    {
      "cell_type": "code",
      "metadata": {
        "id": "BH2K9FuoHgHs",
        "colab_type": "code",
        "colab": {
          "base_uri": "https://localhost:8080/",
          "height": 34
        },
        "outputId": "5df35a88-c9f5-4441-9565-dc42b57ba3fd"
      },
      "source": [
        "c[\"list\"]"
      ],
      "execution_count": 5,
      "outputs": [
        {
          "output_type": "execute_result",
          "data": {
            "text/plain": [
              "[1, 2, 3, 4]"
            ]
          },
          "metadata": {
            "tags": []
          },
          "execution_count": 5
        }
      ]
    },
    {
      "cell_type": "code",
      "metadata": {
        "id": "PYv6yfgK9FyK",
        "colab_type": "code",
        "colab": {}
      },
      "source": [
        "seta = {0,2,7,5,6,8,9}"
      ],
      "execution_count": 8,
      "outputs": []
    },
    {
      "cell_type": "code",
      "metadata": {
        "id": "qZ50806_9TaO",
        "colab_type": "code",
        "colab": {
          "base_uri": "https://localhost:8080/",
          "height": 34
        },
        "outputId": "3ee2dbba-d7d1-4ae7-d828-2c78014f0fd5"
      },
      "source": [
        "seta.pop()\n",
        "print(seta)"
      ],
      "execution_count": 9,
      "outputs": [
        {
          "output_type": "stream",
          "text": [
            "{2, 5, 6, 7, 8, 9}\n"
          ],
          "name": "stdout"
        }
      ]
    }
  ]
}